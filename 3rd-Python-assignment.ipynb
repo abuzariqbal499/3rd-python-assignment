{
 "cells": [
  {
   "cell_type": "markdown",
   "metadata": {},
   "source": [
    "# 1. Indexing"
   ]
  },
  {
   "cell_type": "code",
   "execution_count": 1,
   "metadata": {},
   "outputs": [],
   "source": [
    "#Write code for retriving values from list by indexing and print a statement message for given lists"
   ]
  },
  {
   "cell_type": "markdown",
   "metadata": {},
   "source": [
    "Question"
   ]
  },
  {
   "cell_type": "code",
   "execution_count": 2,
   "metadata": {},
   "outputs": [],
   "source": [
    "names = [\"Ali\", 125000, \"Google\",5]"
   ]
  },
  {
   "cell_type": "markdown",
   "metadata": {},
   "source": [
    "output"
   ]
  },
  {
   "cell_type": "code",
   "execution_count": 3,
   "metadata": {},
   "outputs": [],
   "source": [
    "#'Ali is working in Google for 5 years and his salary is 125000'"
   ]
  },
  {
   "cell_type": "code",
   "execution_count": 4,
   "metadata": {},
   "outputs": [
    {
     "name": "stdout",
     "output_type": "stream",
     "text": [
      "Ali is working in Google for 5 years and his salary is 125000\n"
     ]
    }
   ],
   "source": [
    "messege=names[0] +\" is working in \" +  names[2 ] +\" for \"+ str(names[3])+\" years and his salary is \"+str(names[1])\n",
    "print(messege)"
   ]
  },
  {
   "cell_type": "markdown",
   "metadata": {},
   "source": [
    "# 2.Slicing"
   ]
  },
  {
   "cell_type": "code",
   "execution_count": 5,
   "metadata": {},
   "outputs": [],
   "source": [
    "cities = [\"Faisalabad\", \"Lahore\", \"Islamabad\", \"Peshawar\", \"Quetta\", \"Sahiwal\", \"Rawalpindi\", \"Sialkot\"]"
   ]
  },
  {
   "cell_type": "code",
   "execution_count": 6,
   "metadata": {},
   "outputs": [],
   "source": [
    "#Outputs:\n",
    "#(For positive slicing)\n",
    "#1. [\"Faisalabad\", \"Lahore\", \"Islamabad\", \"Peshawar\"]\n",
    "#2. [\"Islamabad\", \"Peshawar\", \"Quetta\", \"Sahiwal\"]\n",
    "#3. [\"Sahiwal\", \"Rawalpindi\", \"Sialkot\"]\n",
    "\n",
    "#(For negative slicing)\n",
    "#1. ['Quetta', 'Sahiwal', 'Rawalpindi']\n",
    "#2. ['Peshawar', 'Quetta', 'Sahiwal', 'Rawalpindi', 'Sialkot']"
   ]
  },
  {
   "cell_type": "markdown",
   "metadata": {},
   "source": [
    "For positive slicing"
   ]
  },
  {
   "cell_type": "code",
   "execution_count": 7,
   "metadata": {},
   "outputs": [
    {
     "data": {
      "text/plain": [
       "['Faisalabad', 'Lahore', 'Islamabad', 'Peshawar']"
      ]
     },
     "execution_count": 7,
     "metadata": {},
     "output_type": "execute_result"
    }
   ],
   "source": [
    "\n",
    "cities[0:4]"
   ]
  },
  {
   "cell_type": "code",
   "execution_count": 8,
   "metadata": {},
   "outputs": [
    {
     "data": {
      "text/plain": [
       "['Islamabad', 'Peshawar', 'Quetta', 'Sahiwal']"
      ]
     },
     "execution_count": 8,
     "metadata": {},
     "output_type": "execute_result"
    }
   ],
   "source": [
    "cities[2:6]"
   ]
  },
  {
   "cell_type": "code",
   "execution_count": 9,
   "metadata": {},
   "outputs": [
    {
     "data": {
      "text/plain": [
       "['Sahiwal', 'Rawalpindi', 'Sialkot']"
      ]
     },
     "execution_count": 9,
     "metadata": {},
     "output_type": "execute_result"
    }
   ],
   "source": [
    "cities[5:]"
   ]
  },
  {
   "cell_type": "markdown",
   "metadata": {},
   "source": [
    "Negative Clicing"
   ]
  },
  {
   "cell_type": "code",
   "execution_count": 10,
   "metadata": {},
   "outputs": [
    {
     "data": {
      "text/plain": [
       "['Quetta', 'Sahiwal', 'Rawalpindi']"
      ]
     },
     "execution_count": 10,
     "metadata": {},
     "output_type": "execute_result"
    }
   ],
   "source": [
    "cities[-4:-1]"
   ]
  },
  {
   "cell_type": "code",
   "execution_count": 11,
   "metadata": {},
   "outputs": [
    {
     "data": {
      "text/plain": [
       "['Peshawar', 'Quetta', 'Sahiwal', 'Rawalpindi', 'Sialkot']"
      ]
     },
     "execution_count": 11,
     "metadata": {},
     "output_type": "execute_result"
    }
   ],
   "source": [
    "cities[-5:]"
   ]
  },
  {
   "cell_type": "markdown",
   "metadata": {},
   "source": [
    "# 3. Update List"
   ]
  },
  {
   "cell_type": "markdown",
   "metadata": {},
   "source": [
    "Question"
   ]
  },
  {
   "cell_type": "code",
   "execution_count": 12,
   "metadata": {},
   "outputs": [],
   "source": [
    "#.append"
   ]
  },
  {
   "cell_type": "code",
   "execution_count": 13,
   "metadata": {},
   "outputs": [],
   "source": [
    "studentdata=[\"Ali raza\", 22, 21.94, \"Computer science\", 5, \"UOA\"]"
   ]
  },
  {
   "cell_type": "code",
   "execution_count": 14,
   "metadata": {},
   "outputs": [],
   "source": [
    "studentdata.append(\"20 feb 2020\")"
   ]
  },
  {
   "cell_type": "code",
   "execution_count": 15,
   "metadata": {},
   "outputs": [
    {
     "data": {
      "text/plain": [
       "['Ali raza', 22, 21.94, 'Computer science', 5, 'UOA', '20 feb 2020']"
      ]
     },
     "execution_count": 15,
     "metadata": {},
     "output_type": "execute_result"
    }
   ],
   "source": [
    "studentdata"
   ]
  },
  {
   "cell_type": "code",
   "execution_count": 16,
   "metadata": {},
   "outputs": [],
   "source": [
    "studentdata.append(8)"
   ]
  },
  {
   "cell_type": "code",
   "execution_count": 17,
   "metadata": {},
   "outputs": [
    {
     "data": {
      "text/plain": [
       "['Ali raza', 22, 21.94, 'Computer science', 5, 'UOA', '20 feb 2020', 8]"
      ]
     },
     "execution_count": 17,
     "metadata": {},
     "output_type": "execute_result"
    }
   ],
   "source": [
    "studentdata"
   ]
  },
  {
   "cell_type": "code",
   "execution_count": 18,
   "metadata": {},
   "outputs": [],
   "source": [
    "#.insert"
   ]
  },
  {
   "cell_type": "code",
   "execution_count": 19,
   "metadata": {},
   "outputs": [],
   "source": [
    "studentdata.insert(4,2500)"
   ]
  },
  {
   "cell_type": "code",
   "execution_count": 20,
   "metadata": {},
   "outputs": [
    {
     "data": {
      "text/plain": [
       "['Ali raza', 22, 21.94, 'Computer science', 2500, 5, 'UOA', '20 feb 2020', 8]"
      ]
     },
     "execution_count": 20,
     "metadata": {},
     "output_type": "execute_result"
    }
   ],
   "source": [
    "studentdata"
   ]
  },
  {
   "cell_type": "code",
   "execution_count": 21,
   "metadata": {},
   "outputs": [],
   "source": [
    "studentdata.insert(1,\"M iqbal\")"
   ]
  },
  {
   "cell_type": "code",
   "execution_count": 22,
   "metadata": {},
   "outputs": [
    {
     "data": {
      "text/plain": [
       "['Ali raza',\n",
       " 'M iqbal',\n",
       " 22,\n",
       " 21.94,\n",
       " 'Computer science',\n",
       " 2500,\n",
       " 5,\n",
       " 'UOA',\n",
       " '20 feb 2020',\n",
       " 8]"
      ]
     },
     "execution_count": 22,
     "metadata": {},
     "output_type": "execute_result"
    }
   ],
   "source": [
    "studentdata"
   ]
  },
  {
   "cell_type": "code",
   "execution_count": 23,
   "metadata": {},
   "outputs": [
    {
     "data": {
      "text/plain": [
       "['Ali raza',\n",
       " 'M iqbal',\n",
       " 22,\n",
       " 21.94,\n",
       " 'Computer science',\n",
       " 2500,\n",
       " 5,\n",
       " 'UOA',\n",
       " '20 feb 2020',\n",
       " 8]"
      ]
     },
     "execution_count": 23,
     "metadata": {},
     "output_type": "execute_result"
    }
   ],
   "source": [
    "studentdata"
   ]
  },
  {
   "cell_type": "code",
   "execution_count": 24,
   "metadata": {},
   "outputs": [],
   "source": [
    "studentdata=['Ali raza',\n",
    " 'M iqbal',\n",
    " 22,\n",
    " 21.94,\n",
    " 'Computer science',\n",
    " 2500,\n",
    " 5,\n",
    " 'UOA',\n",
    " '20 feb 2020',\n",
    " 8]"
   ]
  },
  {
   "cell_type": "code",
   "execution_count": 25,
   "metadata": {},
   "outputs": [
    {
     "data": {
      "text/plain": [
       "['Ali raza',\n",
       " 'M iqbal',\n",
       " 22,\n",
       " 21.94,\n",
       " 'Computer science',\n",
       " 2500,\n",
       " 5,\n",
       " 'UOA',\n",
       " '20 feb 2020',\n",
       " 8]"
      ]
     },
     "execution_count": 25,
     "metadata": {},
     "output_type": "execute_result"
    }
   ],
   "source": [
    "studentdata"
   ]
  },
  {
   "cell_type": "code",
   "execution_count": 26,
   "metadata": {},
   "outputs": [],
   "source": [
    "studentdata.remove(\"Computer science\")"
   ]
  },
  {
   "cell_type": "code",
   "execution_count": 27,
   "metadata": {},
   "outputs": [
    {
     "data": {
      "text/plain": [
       "['Ali raza', 'M iqbal', 22, 21.94, 2500, 5, 'UOA', '20 feb 2020', 8]"
      ]
     },
     "execution_count": 27,
     "metadata": {},
     "output_type": "execute_result"
    }
   ],
   "source": [
    "studentdata"
   ]
  },
  {
   "cell_type": "code",
   "execution_count": 28,
   "metadata": {},
   "outputs": [],
   "source": [
    "studentdata.remove(21.94)"
   ]
  },
  {
   "cell_type": "code",
   "execution_count": 29,
   "metadata": {},
   "outputs": [
    {
     "data": {
      "text/plain": [
       "['Ali raza', 'M iqbal', 22, 2500, 5, 'UOA', '20 feb 2020', 8]"
      ]
     },
     "execution_count": 29,
     "metadata": {},
     "output_type": "execute_result"
    }
   ],
   "source": [
    "studentdata"
   ]
  },
  {
   "cell_type": "code",
   "execution_count": 30,
   "metadata": {},
   "outputs": [],
   "source": [
    "#Remove using pop method"
   ]
  },
  {
   "cell_type": "code",
   "execution_count": 31,
   "metadata": {},
   "outputs": [
    {
     "data": {
      "text/plain": [
       "8"
      ]
     },
     "execution_count": 31,
     "metadata": {},
     "output_type": "execute_result"
    }
   ],
   "source": [
    "studentdata.pop(-1)"
   ]
  },
  {
   "cell_type": "code",
   "execution_count": 32,
   "metadata": {},
   "outputs": [
    {
     "data": {
      "text/plain": [
       "['Ali raza', 'M iqbal', 22, 2500, 5, 'UOA', '20 feb 2020']"
      ]
     },
     "execution_count": 32,
     "metadata": {},
     "output_type": "execute_result"
    }
   ],
   "source": [
    "studentdata"
   ]
  },
  {
   "cell_type": "code",
   "execution_count": 33,
   "metadata": {},
   "outputs": [
    {
     "data": {
      "text/plain": [
       "22"
      ]
     },
     "execution_count": 33,
     "metadata": {},
     "output_type": "execute_result"
    }
   ],
   "source": [
    "studentdata.pop(2)"
   ]
  },
  {
   "cell_type": "markdown",
   "metadata": {},
   "source": [
    "studentdata"
   ]
  },
  {
   "cell_type": "markdown",
   "metadata": {},
   "source": [
    "# 4.Multidimensional list tasks"
   ]
  },
  {
   "cell_type": "markdown",
   "metadata": {},
   "source": [
    "Question"
   ]
  },
  {
   "cell_type": "code",
   "execution_count": 34,
   "metadata": {},
   "outputs": [],
   "source": [
    "employee_data=[[\"Ali\", 35000, \"Software Engineer\"],\n",
    "\t\t\t\t[\"Talha\", 55000, \"Product Manager\"],\n",
    "\t\t\t\t[\"Nasir\", 79000, \"Computer Engineer\"],\n",
    "\t\t\t\t[\"Khalid\", 44000, \"DBA\"]]"
   ]
  },
  {
   "cell_type": "code",
   "execution_count": 35,
   "metadata": {},
   "outputs": [],
   "source": [
    "#For loop \n",
    "    #Tasks\n",
    "\n",
    "#1. Print name of employees with salaray greater than 50000.\n",
    "#2. Calculate total salary of all employees."
   ]
  },
  {
   "cell_type": "code",
   "execution_count": 36,
   "metadata": {},
   "outputs": [],
   "source": [
    "total_salery=0\n",
    "for item in employee_data:\n",
    "    total_salery += item[1]"
   ]
  },
  {
   "cell_type": "code",
   "execution_count": 37,
   "metadata": {},
   "outputs": [
    {
     "data": {
      "text/plain": [
       "213000"
      ]
     },
     "execution_count": 37,
     "metadata": {},
     "output_type": "execute_result"
    }
   ],
   "source": [
    "total_salery"
   ]
  },
  {
   "cell_type": "code",
   "execution_count": 38,
   "metadata": {},
   "outputs": [],
   "source": [
    "name_with_salery=[]\n",
    "for i in employee_data:\n",
    "    name_with_salery.append([i[0],i[1]])"
   ]
  },
  {
   "cell_type": "code",
   "execution_count": 39,
   "metadata": {},
   "outputs": [
    {
     "data": {
      "text/plain": [
       "[['Ali', 35000], ['Talha', 55000], ['Nasir', 79000], ['Khalid', 44000]]"
      ]
     },
     "execution_count": 39,
     "metadata": {},
     "output_type": "execute_result"
    }
   ],
   "source": [
    "name_with_salery"
   ]
  },
  {
   "cell_type": "code",
   "execution_count": 40,
   "metadata": {},
   "outputs": [
    {
     "name": "stdout",
     "output_type": "stream",
     "text": [
      "Abuzar\n",
      "Abuzar\n",
      "Abuzar\n",
      "Abuzar\n",
      "Abuzar\n"
     ]
    }
   ],
   "source": [
    "for a in range(5):\n",
    "    print(\"Abuzar\")"
   ]
  },
  {
   "cell_type": "code",
   "execution_count": null,
   "metadata": {},
   "outputs": [],
   "source": []
  },
  {
   "cell_type": "markdown",
   "metadata": {},
   "source": [
    "# 5. Login User"
   ]
  },
  {
   "cell_type": "code",
   "execution_count": 41,
   "metadata": {},
   "outputs": [
    {
     "name": "stdout",
     "output_type": "stream",
     "text": [
      "login susessfull\n",
      "redirecting\n",
      "mail is valid\n"
     ]
    }
   ],
   "source": [
    "username = \"faizan1214\"\n",
    "password = \"qwerty\"\n",
    "mail = \"bu@d.com\"\n",
    "if username == \"faizan1214\" and password==\"qwerty\":\n",
    "    print(\"login susessfull\")\n",
    "    print(\"redirecting\")\n",
    "\n",
    "else:\n",
    "    print(\"failed\")\n",
    "if mail == \"bu@d.com\":\n",
    "    print(\"mail is valid\")\n",
    "else:\n",
    "    print(\"Mail is incorrect\")\n"
   ]
  },
  {
   "cell_type": "code",
   "execution_count": 42,
   "metadata": {},
   "outputs": [
    {
     "name": "stdout",
     "output_type": "stream",
     "text": [
      "login sucessfull\n"
     ]
    }
   ],
   "source": [
    "if username == \"faizan1214\" and password == \"qwerty\" and mail ==\"bu@d.com\":\n",
    "    print(\"login sucessfull\")\n",
    "        "
   ]
  },
  {
   "cell_type": "code",
   "execution_count": null,
   "metadata": {},
   "outputs": [],
   "source": []
  }
 ],
 "metadata": {
  "kernelspec": {
   "display_name": "Python 3",
   "language": "python",
   "name": "python3"
  },
  "language_info": {
   "codemirror_mode": {
    "name": "ipython",
    "version": 3
   },
   "file_extension": ".py",
   "mimetype": "text/x-python",
   "name": "python",
   "nbconvert_exporter": "python",
   "pygments_lexer": "ipython3",
   "version": "3.7.4"
  }
 },
 "nbformat": 4,
 "nbformat_minor": 2
}
